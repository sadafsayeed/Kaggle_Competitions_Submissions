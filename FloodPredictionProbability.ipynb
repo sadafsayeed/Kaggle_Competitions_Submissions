{
  "metadata": {
    "kernelspec": {
      "language": "python",
      "display_name": "Python 3",
      "name": "python3"
    },
    "language_info": {
      "name": "python",
      "version": "3.10.13",
      "mimetype": "text/x-python",
      "codemirror_mode": {
        "name": "ipython",
        "version": 3
      },
      "pygments_lexer": "ipython3",
      "nbconvert_exporter": "python",
      "file_extension": ".py"
    },
    "kaggle": {
      "accelerator": "nvidiaTeslaT4",
      "dataSources": [
        {
          "sourceId": 73278,
          "databundleVersionId": 8121328,
          "sourceType": "competition"
        }
      ],
      "dockerImageVersionId": 30698,
      "isInternetEnabled": true,
      "language": "python",
      "sourceType": "notebook",
      "isGpuEnabled": true
    },
    "colab": {
      "provenance": [],
      "include_colab_link": true
    }
  },
  "nbformat_minor": 0,
  "nbformat": 4,
  "cells": [
    {
      "cell_type": "markdown",
      "metadata": {
        "id": "view-in-github",
        "colab_type": "text"
      },
      "source": [
        "<a href=\"https://colab.research.google.com/github/sadafsayeed/Kaggle_Competitions_Submissions/blob/main/FloodPredictionProbability.ipynb\" target=\"_parent\"><img src=\"https://colab.research.google.com/assets/colab-badge.svg\" alt=\"Open In Colab\"/></a>"
      ]
    },
    {
      "source": [
        "\n",
        "# IMPORTANT: RUN THIS CELL IN ORDER TO IMPORT YOUR KAGGLE DATA SOURCES\n",
        "# TO THE CORRECT LOCATION (/kaggle/input) IN YOUR NOTEBOOK,\n",
        "# THEN FEEL FREE TO DELETE THIS CELL.\n",
        "# NOTE: THIS NOTEBOOK ENVIRONMENT DIFFERS FROM KAGGLE'S PYTHON\n",
        "# ENVIRONMENT SO THERE MAY BE MISSING LIBRARIES USED BY YOUR\n",
        "# NOTEBOOK.\n",
        "\n",
        "import os\n",
        "import sys\n",
        "from tempfile import NamedTemporaryFile\n",
        "from urllib.request import urlopen\n",
        "from urllib.parse import unquote, urlparse\n",
        "from urllib.error import HTTPError\n",
        "from zipfile import ZipFile\n",
        "import tarfile\n",
        "import shutil\n",
        "\n",
        "CHUNK_SIZE = 40960\n",
        "DATA_SOURCE_MAPPING = 'playground-series-s4e5:https%3A%2F%2Fstorage.googleapis.com%2Fkaggle-competitions-data%2Fkaggle-v2%2F73278%2F8121328%2Fbundle%2Farchive.zip%3FX-Goog-Algorithm%3DGOOG4-RSA-SHA256%26X-Goog-Credential%3Dgcp-kaggle-com%2540kaggle-161607.iam.gserviceaccount.com%252F20240518%252Fauto%252Fstorage%252Fgoog4_request%26X-Goog-Date%3D20240518T114712Z%26X-Goog-Expires%3D259200%26X-Goog-SignedHeaders%3Dhost%26X-Goog-Signature%3D66e810f903c0757813e54e45b99754b8b8940428b722081427e1909bfd9c7d3d285312b58828ac219ff65e0a56537fad8ca2f914280a97eb7d715327d19eb91ccaaf131dd62d0db8eef1f6113e08209034d73568629e9406eb848d4657331d22d6a44599830c668628595853d2345f88dd8ba4a8ed026e46d7f51f0f38f3458451c4e3b319fd424d74b12f596b26dc3f85785b2451bf29e25788fb20513e903fb762f705edbb4d696f68575f67afcbb7b864cd35b71b9056a33369789d5eb43697221fc6ea2bf08c2a5e6de2af2a554ab620797973451a2afaf51df7ed12bb23af07619a63c8d6a6a07e6876f39123b5614ca2a8b911c41d3e8a27efb57026e6'\n",
        "\n",
        "KAGGLE_INPUT_PATH='/kaggle/input'\n",
        "KAGGLE_WORKING_PATH='/kaggle/working'\n",
        "KAGGLE_SYMLINK='kaggle'\n",
        "\n",
        "!umount /kaggle/input/ 2> /dev/null\n",
        "shutil.rmtree('/kaggle/input', ignore_errors=True)\n",
        "os.makedirs(KAGGLE_INPUT_PATH, 0o777, exist_ok=True)\n",
        "os.makedirs(KAGGLE_WORKING_PATH, 0o777, exist_ok=True)\n",
        "\n",
        "try:\n",
        "  os.symlink(KAGGLE_INPUT_PATH, os.path.join(\"..\", 'input'), target_is_directory=True)\n",
        "except FileExistsError:\n",
        "  pass\n",
        "try:\n",
        "  os.symlink(KAGGLE_WORKING_PATH, os.path.join(\"..\", 'working'), target_is_directory=True)\n",
        "except FileExistsError:\n",
        "  pass\n",
        "\n",
        "for data_source_mapping in DATA_SOURCE_MAPPING.split(','):\n",
        "    directory, download_url_encoded = data_source_mapping.split(':')\n",
        "    download_url = unquote(download_url_encoded)\n",
        "    filename = urlparse(download_url).path\n",
        "    destination_path = os.path.join(KAGGLE_INPUT_PATH, directory)\n",
        "    try:\n",
        "        with urlopen(download_url) as fileres, NamedTemporaryFile() as tfile:\n",
        "            total_length = fileres.headers['content-length']\n",
        "            print(f'Downloading {directory}, {total_length} bytes compressed')\n",
        "            dl = 0\n",
        "            data = fileres.read(CHUNK_SIZE)\n",
        "            while len(data) > 0:\n",
        "                dl += len(data)\n",
        "                tfile.write(data)\n",
        "                done = int(50 * dl / int(total_length))\n",
        "                sys.stdout.write(f\"\\r[{'=' * done}{' ' * (50-done)}] {dl} bytes downloaded\")\n",
        "                sys.stdout.flush()\n",
        "                data = fileres.read(CHUNK_SIZE)\n",
        "            if filename.endswith('.zip'):\n",
        "              with ZipFile(tfile) as zfile:\n",
        "                zfile.extractall(destination_path)\n",
        "            else:\n",
        "              with tarfile.open(tfile.name) as tarfile:\n",
        "                tarfile.extractall(destination_path)\n",
        "            print(f'\\nDownloaded and uncompressed: {directory}')\n",
        "    except HTTPError as e:\n",
        "        print(f'Failed to load (likely expired) {download_url} to path {destination_path}')\n",
        "        continue\n",
        "    except OSError as e:\n",
        "        print(f'Failed to load {download_url} to path {destination_path}')\n",
        "        continue\n",
        "\n",
        "print('Data source import complete.')\n"
      ],
      "metadata": {
        "id": "ap4pYOL_hxaZ"
      },
      "cell_type": "code",
      "outputs": [],
      "execution_count": null
    },
    {
      "cell_type": "code",
      "source": [
        "# This Python 3 environment comes with many helpful analytics libraries installed\n",
        "# It is defined by the kaggle/python Docker image: https://github.com/kaggle/docker-python\n",
        "# For example, here's several helpful packages to load\n",
        "\n",
        "import numpy as np # linear algebra\n",
        "import pandas as pd # data processing, CSV file I/O (e.g. pd.read_csv)\n",
        "\n",
        "# Input data files are available in the read-only \"../input/\" directory\n",
        "# For example, running this (by clicking run or pressing Shift+Enter) will list all files under the input directory\n",
        "\n",
        "import os\n",
        "for dirname, _, filenames in os.walk('/kaggle/input'):\n",
        "    for filename in filenames:\n",
        "        print(os.path.join(dirname, filename))\n",
        "\n",
        "# You can write up to 20GB to the current directory (/kaggle/working/) that gets preserved as output when you create a version using \"Save & Run All\"\n",
        "# You can also write temporary files to /kaggle/temp/, but they won't be saved outside of the current session"
      ],
      "metadata": {
        "_uuid": "8f2839f25d086af736a60e9eeb907d3b93b6e0e5",
        "_cell_guid": "b1076dfc-b9ad-4769-8c92-a6c4dae69d19",
        "execution": {
          "iopub.status.busy": "2024-05-18T09:15:09.71702Z",
          "iopub.execute_input": "2024-05-18T09:15:09.71772Z",
          "iopub.status.idle": "2024-05-18T09:15:10.105381Z",
          "shell.execute_reply.started": "2024-05-18T09:15:09.717684Z",
          "shell.execute_reply": "2024-05-18T09:15:10.104516Z"
        },
        "trusted": true,
        "id": "DllmWtsvhxad",
        "outputId": "10af2bfa-6a36-408c-ad10-e62571e74e44"
      },
      "execution_count": null,
      "outputs": [
        {
          "name": "stdout",
          "text": "/kaggle/input/playground-series-s4e5/sample_submission.csv\n/kaggle/input/playground-series-s4e5/train.csv\n/kaggle/input/playground-series-s4e5/test.csv\n",
          "output_type": "stream"
        }
      ]
    },
    {
      "cell_type": "code",
      "source": [
        "import torch\n",
        "from torch import nn\n",
        "import pandas as pd\n",
        "import matplotlib.pyplot as plt\n",
        "import sklearn\n",
        "from sklearn.model_selection import train_test_split\n",
        "import numpy as np"
      ],
      "metadata": {
        "execution": {
          "iopub.status.busy": "2024-05-18T09:15:10.107378Z",
          "iopub.execute_input": "2024-05-18T09:15:10.107886Z",
          "iopub.status.idle": "2024-05-18T09:15:12.340727Z",
          "shell.execute_reply.started": "2024-05-18T09:15:10.107852Z",
          "shell.execute_reply": "2024-05-18T09:15:12.339847Z"
        },
        "trusted": true,
        "id": "hne3l3Uchxae"
      },
      "execution_count": null,
      "outputs": []
    },
    {
      "cell_type": "code",
      "source": [
        "device = \"cuda\" if torch.cuda.is_available() else \"cpu\"\n",
        "device"
      ],
      "metadata": {
        "execution": {
          "iopub.status.busy": "2024-05-18T09:15:12.341951Z",
          "iopub.execute_input": "2024-05-18T09:15:12.34255Z",
          "iopub.status.idle": "2024-05-18T09:15:12.401796Z",
          "shell.execute_reply.started": "2024-05-18T09:15:12.342519Z",
          "shell.execute_reply": "2024-05-18T09:15:12.400829Z"
        },
        "trusted": true,
        "id": "ar3MXdnHhxaf",
        "outputId": "e9030624-4279-4759-f49a-5cb76048a29f"
      },
      "execution_count": null,
      "outputs": [
        {
          "execution_count": 3,
          "output_type": "execute_result",
          "data": {
            "text/plain": "'cuda'"
          },
          "metadata": {}
        }
      ]
    },
    {
      "cell_type": "code",
      "source": [
        "train_data = pd.read_csv(\"/kaggle/input/playground-series-s4e5/train.csv\")\n",
        "\n",
        "train_data"
      ],
      "metadata": {
        "execution": {
          "iopub.status.busy": "2024-05-18T09:15:12.404399Z",
          "iopub.execute_input": "2024-05-18T09:15:12.404765Z",
          "iopub.status.idle": "2024-05-18T09:15:14.179326Z",
          "shell.execute_reply.started": "2024-05-18T09:15:12.404736Z",
          "shell.execute_reply": "2024-05-18T09:15:14.178312Z"
        },
        "trusted": true,
        "id": "Xb9NWFbwhxaf",
        "outputId": "40fcaee1-9794-4b4e-9f56-55debdf6dd77"
      },
      "execution_count": null,
      "outputs": [
        {
          "execution_count": 4,
          "output_type": "execute_result",
          "data": {
            "text/plain": "              id  MonsoonIntensity  TopographyDrainage  RiverManagement  \\\n0              0                 5                   8                5   \n1              1                 6                   7                4   \n2              2                 6                   5                6   \n3              3                 3                   4                6   \n4              4                 5                   3                2   \n...          ...               ...                 ...              ...   \n1117952  1117952                 3                   3                4   \n1117953  1117953                 2                   2                4   \n1117954  1117954                 7                   3                9   \n1117955  1117955                 7                   3                3   \n1117956  1117956                 4                   5                6   \n\n         Deforestation  Urbanization  ClimateChange  DamsQuality  Siltation  \\\n0                    8             6              4            4          3   \n1                    4             8              8            3          5   \n2                    7             3              7            1          5   \n3                    5             4              8            4          7   \n4                    6             4              4            3          3   \n...                ...           ...            ...          ...        ...   \n1117952             10             4              5            5          7   \n1117953              3             9              5            8          1   \n1117954              4             6              5            9          1   \n1117955              7             5              2            3          4   \n1117956              9             5              5            2          8   \n\n         AgriculturalPractices  ...  DrainageSystems  CoastalVulnerability  \\\n0                            3  ...                5                     3   \n1                            4  ...                7                     2   \n2                            4  ...                7                     3   \n3                            6  ...                2                     4   \n4                            3  ...                2                     2   \n...                        ...  ...              ...                   ...   \n1117952                     10  ...                7                     8   \n1117953                      3  ...                9                     4   \n1117954                      3  ...                5                     5   \n1117955                      6  ...                6                     8   \n1117956                      4  ...                4                     8   \n\n         Landslides  Watersheds  DeterioratingInfrastructure  PopulationScore  \\\n0                 3           5                            4                7   \n1                 0           3                            5                3   \n2                 7           5                            6                8   \n3                 7           4                            4                6   \n4                 6           6                            4                1   \n...             ...         ...                          ...              ...   \n1117952           7           2                            2                1   \n1117953           4           3                            7                4   \n1117954           5           5                            6                5   \n1117955           5           3                            4                6   \n1117956           6           5                            5                6   \n\n         WetlandLoss  InadequatePlanning  PoliticalFactors  FloodProbability  \n0                  5                   7                 3             0.445  \n1                  3                   4                 3             0.450  \n2                  2                   3                 3             0.530  \n3                  5                   7                 5             0.535  \n4                  2                   3                 5             0.415  \n...              ...                 ...               ...               ...  \n1117952            4                   6                 4             0.495  \n1117953            9                   4                 5             0.480  \n1117954            5                   2                 4             0.485  \n1117955            7                   6                 4             0.495  \n1117956            7                   7                 8             0.560  \n\n[1117957 rows x 22 columns]",
            "text/html": "<div>\n<style scoped>\n    .dataframe tbody tr th:only-of-type {\n        vertical-align: middle;\n    }\n\n    .dataframe tbody tr th {\n        vertical-align: top;\n    }\n\n    .dataframe thead th {\n        text-align: right;\n    }\n</style>\n<table border=\"1\" class=\"dataframe\">\n  <thead>\n    <tr style=\"text-align: right;\">\n      <th></th>\n      <th>id</th>\n      <th>MonsoonIntensity</th>\n      <th>TopographyDrainage</th>\n      <th>RiverManagement</th>\n      <th>Deforestation</th>\n      <th>Urbanization</th>\n      <th>ClimateChange</th>\n      <th>DamsQuality</th>\n      <th>Siltation</th>\n      <th>AgriculturalPractices</th>\n      <th>...</th>\n      <th>DrainageSystems</th>\n      <th>CoastalVulnerability</th>\n      <th>Landslides</th>\n      <th>Watersheds</th>\n      <th>DeterioratingInfrastructure</th>\n      <th>PopulationScore</th>\n      <th>WetlandLoss</th>\n      <th>InadequatePlanning</th>\n      <th>PoliticalFactors</th>\n      <th>FloodProbability</th>\n    </tr>\n  </thead>\n  <tbody>\n    <tr>\n      <th>0</th>\n      <td>0</td>\n      <td>5</td>\n      <td>8</td>\n      <td>5</td>\n      <td>8</td>\n      <td>6</td>\n      <td>4</td>\n      <td>4</td>\n      <td>3</td>\n      <td>3</td>\n      <td>...</td>\n      <td>5</td>\n      <td>3</td>\n      <td>3</td>\n      <td>5</td>\n      <td>4</td>\n      <td>7</td>\n      <td>5</td>\n      <td>7</td>\n      <td>3</td>\n      <td>0.445</td>\n    </tr>\n    <tr>\n      <th>1</th>\n      <td>1</td>\n      <td>6</td>\n      <td>7</td>\n      <td>4</td>\n      <td>4</td>\n      <td>8</td>\n      <td>8</td>\n      <td>3</td>\n      <td>5</td>\n      <td>4</td>\n      <td>...</td>\n      <td>7</td>\n      <td>2</td>\n      <td>0</td>\n      <td>3</td>\n      <td>5</td>\n      <td>3</td>\n      <td>3</td>\n      <td>4</td>\n      <td>3</td>\n      <td>0.450</td>\n    </tr>\n    <tr>\n      <th>2</th>\n      <td>2</td>\n      <td>6</td>\n      <td>5</td>\n      <td>6</td>\n      <td>7</td>\n      <td>3</td>\n      <td>7</td>\n      <td>1</td>\n      <td>5</td>\n      <td>4</td>\n      <td>...</td>\n      <td>7</td>\n      <td>3</td>\n      <td>7</td>\n      <td>5</td>\n      <td>6</td>\n      <td>8</td>\n      <td>2</td>\n      <td>3</td>\n      <td>3</td>\n      <td>0.530</td>\n    </tr>\n    <tr>\n      <th>3</th>\n      <td>3</td>\n      <td>3</td>\n      <td>4</td>\n      <td>6</td>\n      <td>5</td>\n      <td>4</td>\n      <td>8</td>\n      <td>4</td>\n      <td>7</td>\n      <td>6</td>\n      <td>...</td>\n      <td>2</td>\n      <td>4</td>\n      <td>7</td>\n      <td>4</td>\n      <td>4</td>\n      <td>6</td>\n      <td>5</td>\n      <td>7</td>\n      <td>5</td>\n      <td>0.535</td>\n    </tr>\n    <tr>\n      <th>4</th>\n      <td>4</td>\n      <td>5</td>\n      <td>3</td>\n      <td>2</td>\n      <td>6</td>\n      <td>4</td>\n      <td>4</td>\n      <td>3</td>\n      <td>3</td>\n      <td>3</td>\n      <td>...</td>\n      <td>2</td>\n      <td>2</td>\n      <td>6</td>\n      <td>6</td>\n      <td>4</td>\n      <td>1</td>\n      <td>2</td>\n      <td>3</td>\n      <td>5</td>\n      <td>0.415</td>\n    </tr>\n    <tr>\n      <th>...</th>\n      <td>...</td>\n      <td>...</td>\n      <td>...</td>\n      <td>...</td>\n      <td>...</td>\n      <td>...</td>\n      <td>...</td>\n      <td>...</td>\n      <td>...</td>\n      <td>...</td>\n      <td>...</td>\n      <td>...</td>\n      <td>...</td>\n      <td>...</td>\n      <td>...</td>\n      <td>...</td>\n      <td>...</td>\n      <td>...</td>\n      <td>...</td>\n      <td>...</td>\n      <td>...</td>\n    </tr>\n    <tr>\n      <th>1117952</th>\n      <td>1117952</td>\n      <td>3</td>\n      <td>3</td>\n      <td>4</td>\n      <td>10</td>\n      <td>4</td>\n      <td>5</td>\n      <td>5</td>\n      <td>7</td>\n      <td>10</td>\n      <td>...</td>\n      <td>7</td>\n      <td>8</td>\n      <td>7</td>\n      <td>2</td>\n      <td>2</td>\n      <td>1</td>\n      <td>4</td>\n      <td>6</td>\n      <td>4</td>\n      <td>0.495</td>\n    </tr>\n    <tr>\n      <th>1117953</th>\n      <td>1117953</td>\n      <td>2</td>\n      <td>2</td>\n      <td>4</td>\n      <td>3</td>\n      <td>9</td>\n      <td>5</td>\n      <td>8</td>\n      <td>1</td>\n      <td>3</td>\n      <td>...</td>\n      <td>9</td>\n      <td>4</td>\n      <td>4</td>\n      <td>3</td>\n      <td>7</td>\n      <td>4</td>\n      <td>9</td>\n      <td>4</td>\n      <td>5</td>\n      <td>0.480</td>\n    </tr>\n    <tr>\n      <th>1117954</th>\n      <td>1117954</td>\n      <td>7</td>\n      <td>3</td>\n      <td>9</td>\n      <td>4</td>\n      <td>6</td>\n      <td>5</td>\n      <td>9</td>\n      <td>1</td>\n      <td>3</td>\n      <td>...</td>\n      <td>5</td>\n      <td>5</td>\n      <td>5</td>\n      <td>5</td>\n      <td>6</td>\n      <td>5</td>\n      <td>5</td>\n      <td>2</td>\n      <td>4</td>\n      <td>0.485</td>\n    </tr>\n    <tr>\n      <th>1117955</th>\n      <td>1117955</td>\n      <td>7</td>\n      <td>3</td>\n      <td>3</td>\n      <td>7</td>\n      <td>5</td>\n      <td>2</td>\n      <td>3</td>\n      <td>4</td>\n      <td>6</td>\n      <td>...</td>\n      <td>6</td>\n      <td>8</td>\n      <td>5</td>\n      <td>3</td>\n      <td>4</td>\n      <td>6</td>\n      <td>7</td>\n      <td>6</td>\n      <td>4</td>\n      <td>0.495</td>\n    </tr>\n    <tr>\n      <th>1117956</th>\n      <td>1117956</td>\n      <td>4</td>\n      <td>5</td>\n      <td>6</td>\n      <td>9</td>\n      <td>5</td>\n      <td>5</td>\n      <td>2</td>\n      <td>8</td>\n      <td>4</td>\n      <td>...</td>\n      <td>4</td>\n      <td>8</td>\n      <td>6</td>\n      <td>5</td>\n      <td>5</td>\n      <td>6</td>\n      <td>7</td>\n      <td>7</td>\n      <td>8</td>\n      <td>0.560</td>\n    </tr>\n  </tbody>\n</table>\n<p>1117957 rows × 22 columns</p>\n</div>"
          },
          "metadata": {}
        }
      ]
    },
    {
      "cell_type": "code",
      "source": [
        "train_data.columns, type(train_data), train_data.shape"
      ],
      "metadata": {
        "execution": {
          "iopub.status.busy": "2024-05-18T09:15:14.18033Z",
          "iopub.execute_input": "2024-05-18T09:15:14.180629Z",
          "iopub.status.idle": "2024-05-18T09:15:14.188657Z",
          "shell.execute_reply.started": "2024-05-18T09:15:14.180603Z",
          "shell.execute_reply": "2024-05-18T09:15:14.187627Z"
        },
        "trusted": true,
        "id": "VVu8D-4Shxag",
        "outputId": "4954fb5d-6883-4997-8ec3-3b7c51b2037a"
      },
      "execution_count": null,
      "outputs": [
        {
          "execution_count": 5,
          "output_type": "execute_result",
          "data": {
            "text/plain": "(Index(['id', 'MonsoonIntensity', 'TopographyDrainage', 'RiverManagement',\n        'Deforestation', 'Urbanization', 'ClimateChange', 'DamsQuality',\n        'Siltation', 'AgriculturalPractices', 'Encroachments',\n        'IneffectiveDisasterPreparedness', 'DrainageSystems',\n        'CoastalVulnerability', 'Landslides', 'Watersheds',\n        'DeterioratingInfrastructure', 'PopulationScore', 'WetlandLoss',\n        'InadequatePlanning', 'PoliticalFactors', 'FloodProbability'],\n       dtype='object'),\n pandas.core.frame.DataFrame,\n (1117957, 22))"
          },
          "metadata": {}
        }
      ]
    },
    {
      "cell_type": "code",
      "source": [
        "test_data = pd.read_csv(\"/kaggle/input/playground-series-s4e5/test.csv\")"
      ],
      "metadata": {
        "execution": {
          "iopub.status.busy": "2024-05-18T09:15:14.190245Z",
          "iopub.execute_input": "2024-05-18T09:15:14.190627Z",
          "iopub.status.idle": "2024-05-18T09:15:15.035759Z",
          "shell.execute_reply.started": "2024-05-18T09:15:14.190594Z",
          "shell.execute_reply": "2024-05-18T09:15:15.034852Z"
        },
        "trusted": true,
        "id": "ELdHfPN2hxag"
      },
      "execution_count": null,
      "outputs": []
    },
    {
      "cell_type": "code",
      "source": [
        "test_data.columns"
      ],
      "metadata": {
        "execution": {
          "iopub.status.busy": "2024-05-18T09:15:15.036794Z",
          "iopub.execute_input": "2024-05-18T09:15:15.037076Z",
          "iopub.status.idle": "2024-05-18T09:15:15.043547Z",
          "shell.execute_reply.started": "2024-05-18T09:15:15.037051Z",
          "shell.execute_reply": "2024-05-18T09:15:15.042502Z"
        },
        "trusted": true,
        "id": "RLEm5I-2hxag",
        "outputId": "188430ae-99be-4f3e-ca8c-a021a298e604"
      },
      "execution_count": null,
      "outputs": [
        {
          "execution_count": 7,
          "output_type": "execute_result",
          "data": {
            "text/plain": "Index(['id', 'MonsoonIntensity', 'TopographyDrainage', 'RiverManagement',\n       'Deforestation', 'Urbanization', 'ClimateChange', 'DamsQuality',\n       'Siltation', 'AgriculturalPractices', 'Encroachments',\n       'IneffectiveDisasterPreparedness', 'DrainageSystems',\n       'CoastalVulnerability', 'Landslides', 'Watersheds',\n       'DeterioratingInfrastructure', 'PopulationScore', 'WetlandLoss',\n       'InadequatePlanning', 'PoliticalFactors'],\n      dtype='object')"
          },
          "metadata": {}
        }
      ]
    },
    {
      "cell_type": "code",
      "source": [
        "columns = ['MonsoonIntensity', 'TopographyDrainage', 'RiverManagement','Deforestation', 'Urbanization', 'ClimateChange', 'DamsQuality','Siltation', 'AgriculturalPractices', 'Encroachments','IneffectiveDisasterPreparedness', 'DrainageSystems','CoastalVulnerability', 'Landslides', 'Watersheds','DeterioratingInfrastructure', 'PopulationScore', 'WetlandLoss','InadequatePlanning', 'PoliticalFactors']\n",
        "X = train_data[columns]\n",
        "y = train_data[\"FloodProbability\"]"
      ],
      "metadata": {
        "execution": {
          "iopub.status.busy": "2024-05-18T09:15:15.044846Z",
          "iopub.execute_input": "2024-05-18T09:15:15.045123Z",
          "iopub.status.idle": "2024-05-18T09:15:15.110155Z",
          "shell.execute_reply.started": "2024-05-18T09:15:15.045096Z",
          "shell.execute_reply": "2024-05-18T09:15:15.109301Z"
        },
        "trusted": true,
        "id": "CSzUIopPhxah"
      },
      "execution_count": null,
      "outputs": []
    },
    {
      "cell_type": "code",
      "source": [
        "X_train, X_test, y_train, y_test = train_test_split(X, y, test_size=0.2, random_state=42)"
      ],
      "metadata": {
        "execution": {
          "iopub.status.busy": "2024-05-18T09:15:15.111531Z",
          "iopub.execute_input": "2024-05-18T09:15:15.112385Z",
          "iopub.status.idle": "2024-05-18T09:15:15.361621Z",
          "shell.execute_reply.started": "2024-05-18T09:15:15.112345Z",
          "shell.execute_reply": "2024-05-18T09:15:15.36057Z"
        },
        "trusted": true,
        "id": "1YI4ONGthxah"
      },
      "execution_count": null,
      "outputs": []
    },
    {
      "cell_type": "code",
      "source": [
        "type(X_train), type(y_train)"
      ],
      "metadata": {
        "execution": {
          "iopub.status.busy": "2024-05-18T09:15:15.365838Z",
          "iopub.execute_input": "2024-05-18T09:15:15.366221Z",
          "iopub.status.idle": "2024-05-18T09:15:15.372047Z",
          "shell.execute_reply.started": "2024-05-18T09:15:15.366194Z",
          "shell.execute_reply": "2024-05-18T09:15:15.371097Z"
        },
        "trusted": true,
        "id": "U0dpK964hxah",
        "outputId": "8b58e64e-54b3-4419-ff7c-a485e1597ae2"
      },
      "execution_count": null,
      "outputs": [
        {
          "execution_count": 10,
          "output_type": "execute_result",
          "data": {
            "text/plain": "(pandas.core.frame.DataFrame, pandas.core.series.Series)"
          },
          "metadata": {}
        }
      ]
    },
    {
      "cell_type": "code",
      "source": [
        "X_test.shape, y_test.shape"
      ],
      "metadata": {
        "execution": {
          "iopub.status.busy": "2024-05-18T09:15:15.373206Z",
          "iopub.execute_input": "2024-05-18T09:15:15.373476Z",
          "iopub.status.idle": "2024-05-18T09:15:15.380625Z",
          "shell.execute_reply.started": "2024-05-18T09:15:15.373426Z",
          "shell.execute_reply": "2024-05-18T09:15:15.379942Z"
        },
        "trusted": true,
        "id": "2CIk4ze0hxai",
        "outputId": "91683921-39c9-4465-e5ba-009165cf2d12"
      },
      "execution_count": null,
      "outputs": [
        {
          "execution_count": 11,
          "output_type": "execute_result",
          "data": {
            "text/plain": "((223592, 20), (223592,))"
          },
          "metadata": {}
        }
      ]
    },
    {
      "cell_type": "code",
      "source": [
        "X_train_tensor = torch.tensor(X_train.values, dtype=torch.float32)\n",
        "y_train_tensor = torch.tensor(y_train.values, dtype=torch.float32)\n",
        "X_test_tensor = torch.tensor(X_test.values, dtype=torch.float32)\n",
        "y_test_tensor = torch.tensor(y_test.values, dtype=torch.float32)"
      ],
      "metadata": {
        "execution": {
          "iopub.status.busy": "2024-05-18T09:15:15.381936Z",
          "iopub.execute_input": "2024-05-18T09:15:15.382269Z",
          "iopub.status.idle": "2024-05-18T09:15:15.404433Z",
          "shell.execute_reply.started": "2024-05-18T09:15:15.382237Z",
          "shell.execute_reply": "2024-05-18T09:15:15.40368Z"
        },
        "trusted": true,
        "id": "DTX21QSMhxai"
      },
      "execution_count": null,
      "outputs": []
    },
    {
      "cell_type": "code",
      "source": [
        "X_train_tensor.dtype, X_train_tensor[:3], X_train_tensor.shape, y_train_tensor.shape"
      ],
      "metadata": {
        "execution": {
          "iopub.status.busy": "2024-05-18T09:15:15.405633Z",
          "iopub.execute_input": "2024-05-18T09:15:15.406243Z",
          "iopub.status.idle": "2024-05-18T09:15:15.41677Z",
          "shell.execute_reply.started": "2024-05-18T09:15:15.406207Z",
          "shell.execute_reply": "2024-05-18T09:15:15.416035Z"
        },
        "trusted": true,
        "id": "W-vENxzohxaj",
        "outputId": "a25d9131-923c-4bb8-bb82-80010d5a2416"
      },
      "execution_count": null,
      "outputs": [
        {
          "execution_count": 13,
          "output_type": "execute_result",
          "data": {
            "text/plain": "(torch.float32,\n tensor([[ 8.,  7.,  7.,  6.,  4.,  3., 13.,  8.,  3.,  2.,  5.,  6.,  6.,  6.,\n           5.,  5.,  2.,  6.,  4.,  7.],\n         [ 7.,  4.,  4.,  2.,  4.,  5.,  7.,  3.,  6.,  2.,  2.,  6.,  5.,  0.,\n           6.,  2.,  5.,  4.,  3.,  4.],\n         [ 6.,  5.,  1.,  6.,  6.,  7.,  3.,  5.,  6.,  4.,  4.,  5.,  7.,  6.,\n           5.,  4.,  9.,  3.,  5.,  3.]]),\n torch.Size([894365, 20]),\n torch.Size([894365]))"
          },
          "metadata": {}
        }
      ]
    },
    {
      "cell_type": "code",
      "source": [
        "class model(nn.Module):\n",
        "    def __init__(self):\n",
        "        super(). __init__()\n",
        "        self.layer1 = nn.Linear(in_features = 20, out_features = 400)\n",
        "        self.layer2 = nn.Linear(in_features = 400, out_features = 400)\n",
        "        self.layer3 = nn.Linear(in_features = 400, out_features = 400)\n",
        "        self.layer4 = nn.Linear(in_features = 400, out_features = 400)\n",
        "        self.layer5 = nn.Linear(in_features = 400, out_features = 1)\n",
        "\n",
        "    def forward(self,x):\n",
        "        x = self.layer1(x)\n",
        "        x = self.layer2(x)\n",
        "        x = self.layer3(x)\n",
        "        x = self.layer4(x)\n",
        "        x = self.layer5(x)\n",
        "        return x\n",
        "model_0 = model().to(device)\n",
        "model_0"
      ],
      "metadata": {
        "execution": {
          "iopub.status.busy": "2024-05-18T09:15:15.417756Z",
          "iopub.execute_input": "2024-05-18T09:15:15.418006Z",
          "iopub.status.idle": "2024-05-18T09:15:15.565221Z",
          "shell.execute_reply.started": "2024-05-18T09:15:15.417983Z",
          "shell.execute_reply": "2024-05-18T09:15:15.564295Z"
        },
        "trusted": true,
        "id": "sqi95i-Qhxaj",
        "outputId": "5d8d40ad-005d-476c-82a0-00da138141b7"
      },
      "execution_count": null,
      "outputs": [
        {
          "execution_count": 14,
          "output_type": "execute_result",
          "data": {
            "text/plain": "model(\n  (layer1): Linear(in_features=20, out_features=400, bias=True)\n  (layer2): Linear(in_features=400, out_features=400, bias=True)\n  (layer3): Linear(in_features=400, out_features=400, bias=True)\n  (layer4): Linear(in_features=400, out_features=400, bias=True)\n  (layer5): Linear(in_features=400, out_features=1, bias=True)\n)"
          },
          "metadata": {}
        }
      ]
    },
    {
      "cell_type": "code",
      "source": [
        "loss_fn = nn.L1Loss()\n",
        "optimizer = torch.optim.Adam(model_0.parameters(), lr=0.001)"
      ],
      "metadata": {
        "execution": {
          "iopub.status.busy": "2024-05-18T09:15:15.566514Z",
          "iopub.execute_input": "2024-05-18T09:15:15.567166Z",
          "iopub.status.idle": "2024-05-18T09:15:16.943142Z",
          "shell.execute_reply.started": "2024-05-18T09:15:15.567132Z",
          "shell.execute_reply": "2024-05-18T09:15:16.94207Z"
        },
        "trusted": true,
        "id": "QTcwBW4thxaj"
      },
      "execution_count": null,
      "outputs": []
    },
    {
      "cell_type": "code",
      "source": [
        "def accuracy_fn(y_pred, y_true):\n",
        "  percent = ((torch.mean(torch.abs(y_true - y_pred) / torch.abs(y_true))*100)).item()\n",
        "  return 100 - percent"
      ],
      "metadata": {
        "execution": {
          "iopub.status.busy": "2024-05-18T09:15:16.944476Z",
          "iopub.execute_input": "2024-05-18T09:15:16.944906Z",
          "iopub.status.idle": "2024-05-18T09:15:16.954609Z",
          "shell.execute_reply.started": "2024-05-18T09:15:16.94488Z",
          "shell.execute_reply": "2024-05-18T09:15:16.953515Z"
        },
        "trusted": true,
        "id": "0GSVHtKDhxaj"
      },
      "execution_count": null,
      "outputs": []
    },
    {
      "cell_type": "code",
      "source": [
        "torch.manual_seed(42)\n",
        "epochs = 140\n",
        "\n",
        "X_train_tensor = X_train_tensor.to(device)\n",
        "y_train_tensor = y_train_tensor.to(device)\n",
        "X_test_tensor = X_test_tensor.to(device)\n",
        "y_test_tensor = y_test_tensor.to(device)\n",
        "\n",
        "for epoch in range(epochs):\n",
        "    model_0.train()\n",
        "\n",
        "    y_pred = model_0(X_train_tensor).squeeze()\n",
        "\n",
        "    loss = loss_fn(y_pred, y_train_tensor)\n",
        "    acc = accuracy_fn(y_pred, y_train_tensor)\n",
        "\n",
        "    optimizer.zero_grad()\n",
        "\n",
        "    loss.backward()\n",
        "\n",
        "    optimizer.step()\n",
        "\n",
        "    model_0.eval()\n",
        "    with torch.inference_mode():\n",
        "        test_pred = model_0(X_test_tensor).squeeze()\n",
        "\n",
        "        test_loss = loss_fn(test_pred, y_test_tensor)\n",
        "        test_acc = accuracy_fn(test_pred, y_test_tensor)\n",
        "\n",
        "\n",
        "        if epoch%10 == 0:\n",
        "            print(f\"Epoch: {epoch} | Loss: {loss:.4f} | Accuracy: {acc:.3f}| Test Loss: {test_loss:.4f}| Test Acc: {test_acc:.3f} \")\n"
      ],
      "metadata": {
        "execution": {
          "iopub.status.busy": "2024-05-18T09:15:16.955917Z",
          "iopub.execute_input": "2024-05-18T09:15:16.956232Z",
          "iopub.status.idle": "2024-05-18T09:18:08.482987Z",
          "shell.execute_reply.started": "2024-05-18T09:15:16.956202Z",
          "shell.execute_reply": "2024-05-18T09:18:08.482095Z"
        },
        "trusted": true,
        "id": "tTvaneG1hxak",
        "outputId": "ce2dc197-5ef6-43c2-d899-1cf286010c9e"
      },
      "execution_count": null,
      "outputs": [
        {
          "name": "stdout",
          "text": "Epoch: 0 | Loss: 0.6938 | Accuracy: -37.611| Test Loss: 7.8348| Test Acc: -1457.275 \nEpoch: 10 | Loss: 1.2563 | Accuracy: -149.372| Test Loss: 1.1370| Test Acc: -125.641 \nEpoch: 20 | Loss: 0.2694 | Accuracy: 46.744| Test Loss: 0.0358| Test Acc: 92.964 \nEpoch: 30 | Loss: 0.0311 | Accuracy: 93.589| Test Loss: 0.1116| Test Acc: 77.520 \nEpoch: 40 | Loss: 0.0539 | Accuracy: 89.581| Test Loss: 0.0194| Test Acc: 96.139 \nEpoch: 50 | Loss: 0.0317 | Accuracy: 93.966| Test Loss: 0.0319| Test Acc: 93.368 \nEpoch: 60 | Loss: 0.0218 | Accuracy: 95.444| Test Loss: 0.0195| Test Acc: 96.191 \nEpoch: 70 | Loss: 0.0177 | Accuracy: 96.372| Test Loss: 0.0195| Test Acc: 95.939 \nEpoch: 80 | Loss: 0.0174 | Accuracy: 96.506| Test Loss: 0.0181| Test Acc: 96.270 \nEpoch: 90 | Loss: 0.0172 | Accuracy: 96.471| Test Loss: 0.0171| Test Acc: 96.583 \nEpoch: 100 | Loss: 0.0207 | Accuracy: 96.002| Test Loss: 0.0209| Test Acc: 95.654 \nEpoch: 110 | Loss: 0.0240 | Accuracy: 95.012| Test Loss: 0.0190| Test Acc: 96.315 \nEpoch: 120 | Loss: 0.0175 | Accuracy: 96.407| Test Loss: 0.0164| Test Acc: 96.737 \nEpoch: 130 | Loss: 0.0187 | Accuracy: 96.136| Test Loss: 0.0173| Test Acc: 96.617 \n",
          "output_type": "stream"
        }
      ]
    },
    {
      "cell_type": "code",
      "source": [
        "model_0.eval()\n",
        "with torch.inference_mode():\n",
        "    p = (model_0(X_test_tensor)).squeeze()\n",
        "\n",
        "p[:10]"
      ],
      "metadata": {
        "execution": {
          "iopub.status.busy": "2024-05-18T09:18:08.484146Z",
          "iopub.execute_input": "2024-05-18T09:18:08.48444Z",
          "iopub.status.idle": "2024-05-18T09:18:08.652611Z",
          "shell.execute_reply.started": "2024-05-18T09:18:08.484413Z",
          "shell.execute_reply": "2024-05-18T09:18:08.651676Z"
        },
        "trusted": true,
        "id": "K0czWYbRhxak",
        "outputId": "17e11d72-6e2f-4a48-db45-f8db90dd1399"
      },
      "execution_count": null,
      "outputs": [
        {
          "execution_count": 18,
          "output_type": "execute_result",
          "data": {
            "text/plain": "tensor([0.5329, 0.5804, 0.5211, 0.5376, 0.5752, 0.6397, 0.4689, 0.4953, 0.4093,\n        0.4735], device='cuda:0')"
          },
          "metadata": {}
        }
      ]
    },
    {
      "cell_type": "code",
      "source": [
        "y_test[:10]"
      ],
      "metadata": {
        "execution": {
          "iopub.status.busy": "2024-05-18T09:18:08.653849Z",
          "iopub.execute_input": "2024-05-18T09:18:08.654513Z",
          "iopub.status.idle": "2024-05-18T09:18:08.66221Z",
          "shell.execute_reply.started": "2024-05-18T09:18:08.654475Z",
          "shell.execute_reply": "2024-05-18T09:18:08.661184Z"
        },
        "trusted": true,
        "id": "OPKaFuP2hxak",
        "outputId": "02d47011-b8d8-4649-e001-c92414a4fdf8"
      },
      "execution_count": null,
      "outputs": [
        {
          "execution_count": 19,
          "output_type": "execute_result",
          "data": {
            "text/plain": "1105809    0.560\n442591     0.575\n5434       0.510\n82966      0.530\n584893     0.590\n998013     0.630\n397526     0.455\n1020376    0.510\n764949     0.395\n200261     0.460\nName: FloodProbability, dtype: float64"
          },
          "metadata": {}
        }
      ]
    },
    {
      "cell_type": "code",
      "source": [
        "plt.figure(figsize=(10,7))\n",
        "plt.scatter(X_test_tensor[:,0].cpu().detach().numpy(), y_test_tensor.cpu().detach().numpy(), c=\"b\", s=4, label=\"Testing data\")\n",
        "plt.scatter(X_test_tensor[:,0].cpu().detach().numpy(), p.cpu().detach().numpy(), c = \"g\", s=4, label=\"Predictions\")\n",
        "plt.legend(prop={\"size\":14})"
      ],
      "metadata": {
        "execution": {
          "iopub.status.busy": "2024-05-18T09:18:08.663409Z",
          "iopub.execute_input": "2024-05-18T09:18:08.66374Z",
          "iopub.status.idle": "2024-05-18T09:18:19.554452Z",
          "shell.execute_reply.started": "2024-05-18T09:18:08.663708Z",
          "shell.execute_reply": "2024-05-18T09:18:19.553515Z"
        },
        "trusted": true,
        "id": "xTpo1Bidhxal",
        "outputId": "40b876b5-5ecd-4304-f3cd-a0054e077e08"
      },
      "execution_count": null,
      "outputs": [
        {
          "execution_count": 20,
          "output_type": "execute_result",
          "data": {
            "text/plain": "<matplotlib.legend.Legend at 0x7cbd303296c0>"
          },
          "metadata": {}
        },
        {
          "output_type": "display_data",
          "data": {
            "text/plain": "<Figure size 1000x700 with 1 Axes>",
            "image/png": "[encoded data removed]"
          },
          "metadata": {}
        }
      ]
    },
    {
      "cell_type": "code",
      "source": [
        "X_pred = test_data[columns]\n",
        "X_pred = torch.tensor(X_pred.values, dtype=torch.float32)\n",
        "X_pred = X_pred.to(device)"
      ],
      "metadata": {
        "execution": {
          "iopub.status.busy": "2024-05-18T09:18:19.555798Z",
          "iopub.execute_input": "2024-05-18T09:18:19.556461Z",
          "iopub.status.idle": "2024-05-18T09:18:19.643843Z",
          "shell.execute_reply.started": "2024-05-18T09:18:19.556408Z",
          "shell.execute_reply": "2024-05-18T09:18:19.64303Z"
        },
        "trusted": true,
        "id": "gEL1cMJRhxal"
      },
      "execution_count": null,
      "outputs": []
    },
    {
      "cell_type": "code",
      "source": [
        "model_0.eval()\n",
        "with torch.inference_mode():\n",
        "    prediction = (model_0(X_pred)).squeeze()\n",
        "\n",
        "prediction[:10]"
      ],
      "metadata": {
        "execution": {
          "iopub.status.busy": "2024-05-18T09:18:19.645026Z",
          "iopub.execute_input": "2024-05-18T09:18:19.64539Z",
          "iopub.status.idle": "2024-05-18T09:18:19.955373Z",
          "shell.execute_reply.started": "2024-05-18T09:18:19.645351Z",
          "shell.execute_reply": "2024-05-18T09:18:19.954427Z"
        },
        "trusted": true,
        "id": "cf14L76whxal",
        "outputId": "d9a918c6-472d-476f-99e3-024df3dc1d3d"
      },
      "execution_count": null,
      "outputs": [
        {
          "execution_count": 22,
          "output_type": "execute_result",
          "data": {
            "text/plain": "tensor([0.5700, 0.4575, 0.4563, 0.4671, 0.4684, 0.5054, 0.5321, 0.5273, 0.4736,\n        0.5694], device='cuda:0')"
          },
          "metadata": {}
        }
      ]
    },
    {
      "cell_type": "code",
      "source": [
        "test_data[\"FloodProbability\"] = prediction.cpu().detach().numpy()\n",
        "\n",
        "test_data.head()"
      ],
      "metadata": {
        "execution": {
          "iopub.status.busy": "2024-05-18T09:18:19.956478Z",
          "iopub.execute_input": "2024-05-18T09:18:19.956776Z",
          "iopub.status.idle": "2024-05-18T09:18:19.977561Z",
          "shell.execute_reply.started": "2024-05-18T09:18:19.956751Z",
          "shell.execute_reply": "2024-05-18T09:18:19.976659Z"
        },
        "trusted": true,
        "id": "CAoVYVGthxal",
        "outputId": "849cff61-e2d6-46a8-9535-3b9682789ecd"
      },
      "execution_count": null,
      "outputs": [
        {
          "execution_count": 23,
          "output_type": "execute_result",
          "data": {
            "text/plain": "        id  MonsoonIntensity  TopographyDrainage  RiverManagement  \\\n0  1117957                 4                   6                3   \n1  1117958                 4                   4                2   \n2  1117959                 1                   3                6   \n3  1117960                 2                   4                4   \n4  1117961                 6                   3                2   \n\n   Deforestation  Urbanization  ClimateChange  DamsQuality  Siltation  \\\n0              5             6              7            8          7   \n1              9             5              5            4          7   \n2              5             7              2            4          6   \n3              6             4              5            4          3   \n4              4             6              4            5          5   \n\n   AgriculturalPractices  ...  DrainageSystems  CoastalVulnerability  \\\n0                      8  ...                5                     7   \n1                      5  ...                4                     7   \n2                      4  ...                9                     2   \n3                      4  ...                8                     4   \n4                      3  ...                3                     2   \n\n   Landslides  Watersheds  DeterioratingInfrastructure  PopulationScore  \\\n0           5           6                            3                6   \n1           4           5                            1                7   \n2           5           5                            2                3   \n3           6           7                            6                4   \n4           6           4                            6                8   \n\n   WetlandLoss  InadequatePlanning  PoliticalFactors  FloodProbability  \n0            4                   4                 5          0.570004  \n1            4                   4                 3          0.457538  \n2            6                   8                 3          0.456274  \n3            2                   4                 4          0.467081  \n4            4                   5                 5          0.468400  \n\n[5 rows x 22 columns]",
            "text/html": "<div>\n<style scoped>\n    .dataframe tbody tr th:only-of-type {\n        vertical-align: middle;\n    }\n\n    .dataframe tbody tr th {\n        vertical-align: top;\n    }\n\n    .dataframe thead th {\n        text-align: right;\n    }\n</style>\n<table border=\"1\" class=\"dataframe\">\n  <thead>\n    <tr style=\"text-align: right;\">\n      <th></th>\n      <th>id</th>\n      <th>MonsoonIntensity</th>\n      <th>TopographyDrainage</th>\n      <th>RiverManagement</th>\n      <th>Deforestation</th>\n      <th>Urbanization</th>\n      <th>ClimateChange</th>\n      <th>DamsQuality</th>\n      <th>Siltation</th>\n      <th>AgriculturalPractices</th>\n      <th>...</th>\n      <th>DrainageSystems</th>\n      <th>CoastalVulnerability</th>\n      <th>Landslides</th>\n      <th>Watersheds</th>\n      <th>DeterioratingInfrastructure</th>\n      <th>PopulationScore</th>\n      <th>WetlandLoss</th>\n      <th>InadequatePlanning</th>\n      <th>PoliticalFactors</th>\n      <th>FloodProbability</th>\n    </tr>\n  </thead>\n  <tbody>\n    <tr>\n      <th>0</th>\n      <td>1117957</td>\n      <td>4</td>\n      <td>6</td>\n      <td>3</td>\n      <td>5</td>\n      <td>6</td>\n      <td>7</td>\n      <td>8</td>\n      <td>7</td>\n      <td>8</td>\n      <td>...</td>\n      <td>5</td>\n      <td>7</td>\n      <td>5</td>\n      <td>6</td>\n      <td>3</td>\n      <td>6</td>\n      <td>4</td>\n      <td>4</td>\n      <td>5</td>\n      <td>0.570004</td>\n    </tr>\n    <tr>\n      <th>1</th>\n      <td>1117958</td>\n      <td>4</td>\n      <td>4</td>\n      <td>2</td>\n      <td>9</td>\n      <td>5</td>\n      <td>5</td>\n      <td>4</td>\n      <td>7</td>\n      <td>5</td>\n      <td>...</td>\n      <td>4</td>\n      <td>7</td>\n      <td>4</td>\n      <td>5</td>\n      <td>1</td>\n      <td>7</td>\n      <td>4</td>\n      <td>4</td>\n      <td>3</td>\n      <td>0.457538</td>\n    </tr>\n    <tr>\n      <th>2</th>\n      <td>1117959</td>\n      <td>1</td>\n      <td>3</td>\n      <td>6</td>\n      <td>5</td>\n      <td>7</td>\n      <td>2</td>\n      <td>4</td>\n      <td>6</td>\n      <td>4</td>\n      <td>...</td>\n      <td>9</td>\n      <td>2</td>\n      <td>5</td>\n      <td>5</td>\n      <td>2</td>\n      <td>3</td>\n      <td>6</td>\n      <td>8</td>\n      <td>3</td>\n      <td>0.456274</td>\n    </tr>\n    <tr>\n      <th>3</th>\n      <td>1117960</td>\n      <td>2</td>\n      <td>4</td>\n      <td>4</td>\n      <td>6</td>\n      <td>4</td>\n      <td>5</td>\n      <td>4</td>\n      <td>3</td>\n      <td>4</td>\n      <td>...</td>\n      <td>8</td>\n      <td>4</td>\n      <td>6</td>\n      <td>7</td>\n      <td>6</td>\n      <td>4</td>\n      <td>2</td>\n      <td>4</td>\n      <td>4</td>\n      <td>0.467081</td>\n    </tr>\n    <tr>\n      <th>4</th>\n      <td>1117961</td>\n      <td>6</td>\n      <td>3</td>\n      <td>2</td>\n      <td>4</td>\n      <td>6</td>\n      <td>4</td>\n      <td>5</td>\n      <td>5</td>\n      <td>3</td>\n      <td>...</td>\n      <td>3</td>\n      <td>2</td>\n      <td>6</td>\n      <td>4</td>\n      <td>6</td>\n      <td>8</td>\n      <td>4</td>\n      <td>5</td>\n      <td>5</td>\n      <td>0.468400</td>\n    </tr>\n  </tbody>\n</table>\n<p>5 rows × 22 columns</p>\n</div>"
          },
          "metadata": {}
        }
      ]
    },
    {
      "cell_type": "code",
      "source": [
        "test_data[[\"id\", \"FloodProbability\"]].to_csv(\"submission.csv\", index=False)"
      ],
      "metadata": {
        "execution": {
          "iopub.status.busy": "2024-05-18T09:18:19.978865Z",
          "iopub.execute_input": "2024-05-18T09:18:19.97925Z",
          "iopub.status.idle": "2024-05-18T09:18:21.672037Z",
          "shell.execute_reply.started": "2024-05-18T09:18:19.979216Z",
          "shell.execute_reply": "2024-05-18T09:18:21.670901Z"
        },
        "trusted": true,
        "id": "VGf3YIRohxal"
      },
      "execution_count": null,
      "outputs": []
    }
  ]
}